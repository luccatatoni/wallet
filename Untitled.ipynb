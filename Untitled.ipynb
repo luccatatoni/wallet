{
 "cells": [
  {
   "cell_type": "code",
   "execution_count": 9,
   "id": "6519d62c-7285-465c-b0e6-e00cc7f1dd8e",
   "metadata": {},
   "outputs": [],
   "source": [
    "import wallet\n",
    "from wallet import derive_wallets"
   ]
  },
  {
   "cell_type": "code",
   "execution_count": 10,
   "id": "45af8453-d56b-4c0c-a0f8-1931ea84b1a9",
   "metadata": {},
   "outputs": [
    {
     "ename": "NameError",
     "evalue": "name 'mnemonic' is not defined",
     "output_type": "error",
     "traceback": [
      "\u001b[0;31m---------------------------------------------------------------------------\u001b[0m",
      "\u001b[0;31mNameError\u001b[0m                                 Traceback (most recent call last)",
      "\u001b[0;32m<ipython-input-10-fa0f26ed7747>\u001b[0m in \u001b[0;36m<module>\u001b[0;34m\u001b[0m\n\u001b[0;32m----> 1\u001b[0;31m \u001b[0mcoins\u001b[0m \u001b[0;34m=\u001b[0m \u001b[0mderive_wallets\u001b[0m\u001b[0;34m(\u001b[0m\u001b[0mmnemonic\u001b[0m\u001b[0;34m,\u001b[0m\u001b[0;34m'ETH'\u001b[0m\u001b[0;34m,\u001b[0m \u001b[0;36m3\u001b[0m\u001b[0;34m)\u001b[0m\u001b[0;34m\u001b[0m\u001b[0;34m\u001b[0m\u001b[0m\n\u001b[0m\u001b[1;32m      2\u001b[0m \u001b[0mcoins\u001b[0m\u001b[0;34m\u001b[0m\u001b[0;34m\u001b[0m\u001b[0m\n",
      "\u001b[0;31mNameError\u001b[0m: name 'mnemonic' is not defined"
     ]
    }
   ],
   "source": [
    "coins = derive_wallets(mnemonic,'ETH', 3)\n",
    "coins"
   ]
  },
  {
   "cell_type": "code",
   "execution_count": null,
   "id": "64f5f6fb-7b45-4bad-ba0b-537a0d2aa4c2",
   "metadata": {},
   "outputs": [],
   "source": []
  },
  {
   "cell_type": "code",
   "execution_count": null,
   "id": "d18ffa59-0fb6-4314-a237-7b4ba80670f2",
   "metadata": {},
   "outputs": [],
   "source": []
  }
 ],
 "metadata": {
  "kernelspec": {
   "display_name": "Python 3",
   "language": "python",
   "name": "python3"
  },
  "language_info": {
   "codemirror_mode": {
    "name": "ipython",
    "version": 3
   },
   "file_extension": ".py",
   "mimetype": "text/x-python",
   "name": "python",
   "nbconvert_exporter": "python",
   "pygments_lexer": "ipython3",
   "version": "3.7.10"
  }
 },
 "nbformat": 4,
 "nbformat_minor": 5
}
