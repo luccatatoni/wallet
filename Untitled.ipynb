{
 "cells": [
  {
   "cell_type": "code",
   "execution_count": 5,
   "id": "6519d62c-7285-465c-b0e6-e00cc7f1dd8e",
   "metadata": {},
   "outputs": [
    {
     "name": "stdout",
     "output_type": "stream",
     "text": [
      "([{'path': \"m/44'/60'/0'/0/0\", 'address': '0xB507935C794C8E2111859a9f87D2B71fd7081d40', 'xprv': 'xprvA3ugKQhw7NZiMNRS328y4NEpuHdxVMN2LoNHPeLjVLb7jYLrQMw7ZDwgf85hcdULketTUyiP5Qamb4bgyAcUqF3DtpxZuoNu15XpCvKWeFD', 'xpub': 'xpub6Gu2ivEpwk81ZrVu93fyRWBZTKUStp5si2HtC2kM3g86cLfzwuFN72GAWQuZZ9uA9pz8kq9MVewZUnxCeYCAUwmhsSuiF6ynnhw6jbDXp5e', 'privkey': '0x242188ec09f7e730a54c78a64b7b59e16300ff35c95c9787ce1f011ad9c07c7b', 'pubkey': '03107daf7950d622f27969af817ce4a060742e84da202e18d5e54471abbcb10031', 'pubkeyhash': '204385a8b74f64530ce37148fc3d9d745eec0b47', 'index': 0}, {'path': \"m/44'/60'/0'/0/1\", 'address': '0x7614DE3ADA37337Bd578A03F389a1cc69580EC7d', 'xprv': 'xprvA3ugKQhw7NZiR5mCQwMMJNCQm4BEWi34tAVm6eRjubijYj1gpgGD9bSwM1azHQHZxTJRSa6c7sBXA84uYX7Qsq3rQy3DJEXmMGTYUvzuJrG', 'xpub': 'xpub6Gu2ivEpwk81dZqfWxtMfW99K61ivAkvFPRMu2qMTwFiRXLqNDaThPmRCGbaiq7HwnUo7tPKUk1oLsVMMdBF3SG2NpPHYD4jDxLhB48qckE', 'privkey': '0x79c72212b6b2fc52a5289da5466106f4d66da5d060cc9eafa6b59a560d8c7f5d', 'pubkey': '02771d98c77e46a8f3d1e645fab4c321da8af7dc1dae038b09d67f9937cea09ea6', 'pubkeyhash': '67b8ac19fadcb1ce255289109e9acfb6da137d32', 'index': 1}, {'path': \"m/44'/60'/0'/0/2\", 'address': '0x8eDD12528255637891449eAc942374a76805D76f', 'xprv': 'xprvA3ugKQhw7NZiSinHGifob8r5vrAx6ostfYmwbs2e2h2itE9ENfaHKioDMvPTpVzghKwfttQsyBynDo3o2WnXei3VeLCmknZHnbxYyFUTpiV', 'xpub': 'xpub6Gu2ivEpwk81fCrkNkCoxGnpUt1SWGbk2mhYQFSFb2Zhm2UNvCtXsX7hDDszkjThpUudovLY5QVUVKHHcD14UM9DvyVCYhxD6e4rcaZ8FBt', 'privkey': '0x2fe15dfa6402135c54eaa20c771526e7d6e7f0d34a2fcd37858dfbfc6d1955b0', 'pubkey': '03740cf102bd96233c6c44909212d7448da82f7f4734626b93c09b4d9f66db0bea', 'pubkeyhash': '24b25c6fce82f9bd65181a220eb2bef6ef80000a', 'index': 2}],)\n"
     ]
    }
   ],
   "source": [
    "import wallet"
   ]
  },
  {
   "cell_type": "code",
   "execution_count": 6,
   "id": "45af8453-d56b-4c0c-a0f8-1931ea84b1a9",
   "metadata": {},
   "outputs": [
    {
     "ename": "NameError",
     "evalue": "name 'derive_wallets' is not defined",
     "output_type": "error",
     "traceback": [
      "\u001b[0;31m---------------------------------------------------------------------------\u001b[0m",
      "\u001b[0;31mNameError\u001b[0m                                 Traceback (most recent call last)",
      "\u001b[0;32m<ipython-input-6-fa0f26ed7747>\u001b[0m in \u001b[0;36m<module>\u001b[0;34m\u001b[0m\n\u001b[0;32m----> 1\u001b[0;31m \u001b[0mcoins\u001b[0m \u001b[0;34m=\u001b[0m \u001b[0mderive_wallets\u001b[0m\u001b[0;34m(\u001b[0m\u001b[0mmnemonic\u001b[0m\u001b[0;34m,\u001b[0m\u001b[0;34m'ETH'\u001b[0m\u001b[0;34m,\u001b[0m \u001b[0;36m3\u001b[0m\u001b[0;34m)\u001b[0m\u001b[0;34m\u001b[0m\u001b[0;34m\u001b[0m\u001b[0m\n\u001b[0m\u001b[1;32m      2\u001b[0m \u001b[0mcoins\u001b[0m\u001b[0;34m\u001b[0m\u001b[0;34m\u001b[0m\u001b[0m\n",
      "\u001b[0;31mNameError\u001b[0m: name 'derive_wallets' is not defined"
     ]
    }
   ],
   "source": [
    "coins = derive_wallets(mnemonic,'ETH', 3)\n",
    "coins"
   ]
  },
  {
   "cell_type": "code",
   "execution_count": null,
   "id": "64f5f6fb-7b45-4bad-ba0b-537a0d2aa4c2",
   "metadata": {},
   "outputs": [],
   "source": []
  },
  {
   "cell_type": "code",
   "execution_count": null,
   "id": "d18ffa59-0fb6-4314-a237-7b4ba80670f2",
   "metadata": {},
   "outputs": [],
   "source": []
  }
 ],
 "metadata": {
  "kernelspec": {
   "display_name": "Python 3",
   "language": "python",
   "name": "python3"
  },
  "language_info": {
   "codemirror_mode": {
    "name": "ipython",
    "version": 3
   },
   "file_extension": ".py",
   "mimetype": "text/x-python",
   "name": "python",
   "nbconvert_exporter": "python",
   "pygments_lexer": "ipython3",
   "version": "3.7.10"
  }
 },
 "nbformat": 4,
 "nbformat_minor": 5
}
