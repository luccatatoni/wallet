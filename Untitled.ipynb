{
 "cells": [
  {
   "cell_type": "code",
   "execution_count": 1,
   "id": "6519d62c-7285-465c-b0e6-e00cc7f1dd8e",
   "metadata": {},
   "outputs": [],
   "source": [
    "# Import dependencies\n",
    "import subprocess\n",
    "import json\n",
    "import os\n",
    "from dotenv import load_dotenv\n",
    "from pprint import pprint\n",
    "\n",
    "\n",
    "# Import constants.py and necessary functions from bit (for BTCTest) and web3 (for ETH)\n",
    "from constants import *\n",
    "from bit import PrivateKeyTestnet\n",
    "from bit.network import NetworkAPI\n",
    "\n",
    "from web3 import Web3, middleware, Account\n",
    "from web3.gas_strategies.time_based import medium_gas_price_strategy\n",
    "from web3.middleware import geth_poa_middleware\n",
    "from eth_account import Account\n",
    "\n",
    "# connect Web3 to our local network 8545\n",
    "w3 = Web3(Web3.HTTPProvider('http://localhost:8545')) \n",
    "\n",
    "\n",
    "# enable PoA middleware\n",
    "w3.middleware_onion.inject(geth_poa_middleware, layer=0)\n",
    "\n",
    "# set gas price strategy to built-in \"medium\" algorythm (default to about 5 per tx)\n",
    "w3.eth.setGasPriceStrategy(medium_gas_price_strategy)\n",
    "\n",
    "# Load and set environment variables\n",
    "load_dotenv('./ft_mnemonic.env')\n",
    "\n",
    "# Set your mnemonic variable\n",
    "mnemonic=os.getenv(\"ft_mnemonic\")"
   ]
  },
  {
   "cell_type": "code",
   "execution_count": 2,
   "id": "45af8453-d56b-4c0c-a0f8-1931ea84b1a9",
   "metadata": {},
   "outputs": [],
   "source": [
    "# Create a function called `derive_wallets`\n",
    "def derive_wallets(mnemonic, coin, depth):\n",
    "    command = f'./derive -g --mnemonic=\"{mnemonic}\" --coin=\"{coin}\" --numderive=\"{depth}\" --format=json'\n",
    "    p = subprocess.Popen(command, stdout=subprocess.PIPE, shell=True)\n",
    "    output, err = p.communicate()\n",
    "    p_status = p.wait()\n",
    "    return json.loads(output)"
   ]
  },
  {
   "cell_type": "code",
   "execution_count": 3,
   "id": "64f5f6fb-7b45-4bad-ba0b-537a0d2aa4c2",
   "metadata": {},
   "outputs": [],
   "source": [
    "# Create a dictionary object called coins to store the output from `derive_wallets`.\n",
    "coins = {\n",
    "    \"ETH\": derive_wallets(mnemonic, ETH, \"3\"),\n",
    "    \"BTC-TEST\": derive_wallets(mnemonic, BTCTEST, \"3\")\n",
    "}"
   ]
  },
  {
   "cell_type": "code",
   "execution_count": 4,
   "id": "d18ffa59-0fb6-4314-a237-7b4ba80670f2",
   "metadata": {},
   "outputs": [
    {
     "name": "stdout",
     "output_type": "stream",
     "text": [
      "{\n",
      "    \"ETH\": [\n",
      "        {\n",
      "            \"path\": \"m/44'/60'/0'/0/0\",\n",
      "            \"address\": \"0x02194a55DDA1B029F70220D53f099F38c629ab36\",\n",
      "            \"xprv\": \"xprvA2UAbkzcn2ntbeUWWeryfF3uDhgNm4dauGWnvnDix6CsvCzQuvLXjSRM7JTtTTWK9sX95nFVJwYhVGxXqPToYqhz27ChLeVmsCQQXUKHxdM\",\n",
      "            \"xpub\": \"xpub6FTX1GXWcQMBp8YycgPz2NzdmjWsAXMSGVSPjAdLWRjro1KZTTenHEjpxbBjGGK7wisPZe4htBommydMu8aPzi3Y94xHEdcN3ANiCP23RiY\",\n",
      "            \"privkey\": \"0xd36d0f9ff2f6dc80208cd19e0b7d939f11bd1a63d10c38cdc1c58f4dbbc95edc\",\n",
      "            \"pubkey\": \"03b21e2e1bc0b74c298d113c5c305c80cc76e67c4ff29e9b31028ea17328f8bba8\",\n",
      "            \"pubkeyhash\": \"a85e006b705f905c3e0e82485a33bf5bae8da52e\",\n",
      "            \"index\": 0\n",
      "        },\n",
      "        {\n",
      "            \"path\": \"m/44'/60'/0'/0/1\",\n",
      "            \"address\": \"0x3dFb64A5AdAe2aDece2E252FE5E889d61Ef75122\",\n",
      "            \"xprv\": \"xprvA2UAbkzcn2ntezNrVAWRNF7yPRSuWDGEu7CdrwoNhYEjuJdeqhFC9zpZ9Uomp4Tuzf47cQ661EzPLErPP9nSvAHoboLqYTTpNd1xfeFGuUP\",\n",
      "            \"xpub\": \"xpub6FTX1GXWcQMBsUTKbC3RjP4hwTHPufz6GL8EfLCzFsmin6xoPEZSho92znBTHFATi3RFHmhJLpwwR7P9KXcN9f4jAs4YUHRkkyg7spW5kZe\",\n",
      "            \"privkey\": \"0x81b180541f1ae73a48976095a58a342611fcedac9c00758510c0f3c0c63e5710\",\n",
      "            \"pubkey\": \"03b64da52e7b23d110002752118ecc97052e6637d916794bef1eaac7bba0a54d3b\",\n",
      "            \"pubkeyhash\": \"5d352e57cab65ca61793104f70e4b0f4543527aa\",\n",
      "            \"index\": 1\n",
      "        },\n",
      "        {\n",
      "            \"path\": \"m/44'/60'/0'/0/2\",\n",
      "            \"address\": \"0xdeA9cE1d814f6dAaEe900D864B7f1974Ab2f0A44\",\n",
      "            \"xprv\": \"xprvA2UAbkzcn2ntgZeXYbMHsrr7QnjdtoitxZDqhxkueuRiE6Eb1xqHUjriskG2mrFftCL29AUAj85B22PtvpSqspSWzLp9tzAQ9CsVKiW84m6\",\n",
      "            \"xpub\": \"xpub6FTX1GXWcQMBu3izectJEznqxpa8JGSkKn9SWMAXDExh6tZjZW9Y2YBCj3zfvXnQGoSrYoft3EGeXcURDCp9Mm9Rg4S3hug3GW2UeTFcFsQ\",\n",
      "            \"privkey\": \"0x815b3bc011096f513a633ed35581e057423680405381db490576d48b95e1ab15\",\n",
      "            \"pubkey\": \"03e58f0070091a989dbede3de95458ddd960381f1846f4414dcc896edc04907735\",\n",
      "            \"pubkeyhash\": \"f1ba997dd9013d7140ac9367cf66ed197c1413b6\",\n",
      "            \"index\": 2\n",
      "        }\n",
      "    ],\n",
      "    \"BTC-TEST\": [\n",
      "        {\n",
      "            \"path\": \"m/44'/1'/0'/0/0\",\n",
      "            \"address\": \"mkwqRYLAfeoMJnnb5A9WegujdggyBeEPGD\",\n",
      "            \"xprv\": \"tprv8khhNkzGYHzyhzgCwAKEf4xVvkBbV2vWqBQpybEMhGHivv3WgwhnjdCguDwQ1ujRnN5JWEM8q8nE8zjHSrthSTvMcxb6V575s5x2zT3q1Pk\",\n",
      "            \"xpub\": \"tpubDHPjXB2WgfgebThzpoyq4UccVmhXeN7RQV1cG7Gf7Y67mQJHKLXNv7pZ5M2WvzFPpQyVgMB9znNEFMefiFvgn7r72wMott5xBJksEZUfWX5\",\n",
      "            \"privkey\": \"cUMT7ptJgxrwSm9s5zSUCKUhSNVq1UC9v31vgoSusyukAciNMdDt\",\n",
      "            \"pubkey\": \"02dcb7a11c7172966e58679c0cb207bfb95d119cc55f9fb318d0a522aaff5b9577\",\n",
      "            \"pubkeyhash\": \"3b8d4adb98c1922686a0b9b3f10ee0f1ef7a2eb8\",\n",
      "            \"index\": 0\n",
      "        },\n",
      "        {\n",
      "            \"path\": \"m/44'/1'/0'/0/1\",\n",
      "            \"address\": \"mmUQuAvBYqVpKzayhaYvnJe9VuwkRdSWPu\",\n",
      "            \"xprv\": \"tprv8khhNkzGYHzyj6e6K8iKuPTCw6YLNRA3tRKCphDT4Yis5AKoPbwFLH7zqay3WqqcsnHCwJZedosPPAXcrHehSKV7MBy57KVPQxyQ3tHyq4g\",\n",
      "            \"xpub\": \"tpubDHPjXB2WgfgecZftCnNvJo7KW84GXkLxTiuz7DFkUpXFueaa1zkqWmjs1gg5EbtryQSJ81NQyoDwvXGWvis4AtWXeZXh9juHNWhUCGZwfRJ\",\n",
      "            \"privkey\": \"cVj1Q51vqgtBEYokpcb6RtjMwVbAsaCmrQRyjMTHFm5rGoziYe44\",\n",
      "            \"pubkey\": \"024fca815b769b3e6920eb31081de336536e0a0dcba4955b6d7773b8acc205e0b4\",\n",
      "            \"pubkeyhash\": \"4155b748ac4f668e327a8b7a7c928241ba09eb85\",\n",
      "            \"index\": 1\n",
      "        },\n",
      "        {\n",
      "            \"path\": \"m/44'/1'/0'/0/2\",\n",
      "            \"address\": \"mxYAxY575hg56rGtU3n6754GfqCKRxzvep\",\n",
      "            \"xprv\": \"tprv8khhNkzGYHzymedp2vc5YrDY9Wo8pZHMTSMLVs5QX2JRV3iaHkTveCATn7hwZehVuu3HV986zzRHULnTF3dUB4gior6YYpv39vDdGmZtvo5\",\n",
      "            \"xpub\": \"tpubDHPjXB2Wgfgef7fbvaGfxFseiYK4ytUG2jx7nP7hwJ6pKXyLv9HWpgnKxHwpFx9yRGdHH7nRWwNVZJ39Neu7znX2LCPrWVgVDEN53WphdpV\",\n",
      "            \"privkey\": \"cMzhL3wx92ETkcCDyTt8ouz8pXQnp7RBpE3pHu1637Sn16qVW9vo\",\n",
      "            \"pubkey\": \"03bdfba2cebb0d9fa135451ec068d05e6ddf07d8c79c13afa46b4658b3942cf087\",\n",
      "            \"pubkeyhash\": \"bab5200f7b800fc1fda9a7449df8b99064501931\",\n",
      "            \"index\": 2\n",
      "        }\n",
      "    ]\n",
      "}\n"
     ]
    }
   ],
   "source": [
    "print(json.dumps(coins, indent=4))"
   ]
  },
  {
   "cell_type": "code",
   "execution_count": 5,
   "id": "57278bb9-fbf6-472e-a12d-b3d1f4e17e1c",
   "metadata": {},
   "outputs": [],
   "source": [
    "# Extract the two private keys from the two first addresses we will be using to initiate our test transactions\n",
    "btc_privkey=coins['BTC-TEST'][0]['privkey']\n",
    "eth_privkey= coins['ETH'][0]['privkey']"
   ]
  },
  {
   "cell_type": "code",
   "execution_count": 6,
   "id": "92bf1ab8-15a5-44be-aade-b8d8d7f828d9",
   "metadata": {},
   "outputs": [],
   "source": [
    "# Create a function called `priv_key_to_account` that converts privkey strings to account objects.\n",
    "def priv_key_to_account(coin, priv_key):\n",
    "    if coin == ETH:\n",
    "        return Account.privateKeyToAccount(priv_key)\n",
    "    if coin == BTCTEST:\n",
    "        return PrivateKeyTestnet(priv_key)"
   ]
  },
  {
   "cell_type": "code",
   "execution_count": 7,
   "id": "ff5e0ac5-8be3-4058-8c26-2388d096bedd",
   "metadata": {},
   "outputs": [],
   "source": [
    "# Create a function called `create_tx` that creates an unsigned transaction appropriate metadata.\n",
    "def create_tx(coin, account, to, amount):\n",
    "    if coin == ETH:\n",
    "        value = w3.toWei(amount, 'ether') # convert eth to wei\n",
    "        gasEstimate = w3.eth.estimateGas({'to':to, 'from':account, 'amount':value})\n",
    "        return{\n",
    "            'to': to,\n",
    "            'from': account,\n",
    "            'value': value,\n",
    "            'gas': gasEstimate,\n",
    "            'gasPrice': w3.eth.generateGasPrice(),\n",
    "            'nonce': w3.eth.getTransactionCount(account),\n",
    "            'chainId': w3.eth.chain_id\n",
    "        }\n",
    "    if coin == BTCTEST:\n",
    "        return PrivateKeyTestnet.prepare_transaction(account.address, [(to, amount, BTC)])"
   ]
  },
  {
   "cell_type": "code",
   "execution_count": 8,
   "id": "beb07414-30e4-46f7-9727-a286bb382af7",
   "metadata": {},
   "outputs": [],
   "source": [
    "# Create a function called `send_tx` that calls `create_tx`, signs and sends the transaction.\n",
    "def send_tx(coin, account, to, amount):\n",
    "    if coin == ETH:\n",
    "        raw_tx = create_tx(coin, account.address, to, amount)\n",
    "        signed = account.signTransaction(raw_tx)\n",
    "        return w3.eth.sendRawTransaction(signed.rawTransaction)\n",
    "    if coin == BTCTEST:\n",
    "        raw_tx = create_tx(coin, account, to, amount)\n",
    "        signed = account.sign_transaction(raw_tx)\n",
    "        return NetworkAPI.broadcast_tx_testnet(signed)"
   ]
  },
  {
   "cell_type": "code",
   "execution_count": 9,
   "id": "4fa0a888-9629-4dfc-9a7a-7420e18d7b3e",
   "metadata": {},
   "outputs": [],
   "source": [
    "# Create the priv_key object that we will need to send transactions\n",
    "account_btc1 = priv_key_to_account(BTCTEST, btc_privkey)\n",
    "account_eth1 = priv_key_to_account(ETH, eth_privkey)"
   ]
  }
 ],
 "metadata": {
  "kernelspec": {
   "display_name": "Python 3",
   "language": "python",
   "name": "python3"
  },
  "language_info": {
   "codemirror_mode": {
    "name": "ipython",
    "version": 3
   },
   "file_extension": ".py",
   "mimetype": "text/x-python",
   "name": "python",
   "nbconvert_exporter": "python",
   "pygments_lexer": "ipython3",
   "version": "3.7.10"
  }
 },
 "nbformat": 4,
 "nbformat_minor": 5
}
